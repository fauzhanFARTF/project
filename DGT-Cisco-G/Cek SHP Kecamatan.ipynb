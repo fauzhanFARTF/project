{
 "cells": [
  {
   "cell_type": "code",
   "execution_count": null,
   "id": "7ba18956",
   "metadata": {},
   "outputs": [],
   "source": [
    "import geopandas as gpd\n",
    "KecamatanAll = gpd.read_file(r'Kecamatan.shp')\n",
    "\n",
    "KecamatanAll.head()"
   ]
  },
  {
   "cell_type": "code",
   "execution_count": null,
   "id": "4b6fe942",
   "metadata": {},
   "outputs": [],
   "source": [
    "KecamatanAll.shape"
   ]
  },
  {
   "cell_type": "code",
   "execution_count": null,
   "id": "f4cb094b",
   "metadata": {},
   "outputs": [],
   "source": [
    "KecamatanAll.plot(figsize=(15,30))"
   ]
  },
  {
   "cell_type": "code",
   "execution_count": null,
   "id": "f6ba1bc4",
   "metadata": {},
   "outputs": [],
   "source": [
    "import matplotlib.pyplot as plt\n",
    "\n",
    "fix, ax = plt.subplots(figsize = (15,30))\n",
    "KecamatanAll.plot(ax=ax)\n",
    "\n",
    "KecamatanAll.plot(ax=ax, alpha=0.7, color =\"pink\", linewidth=0.8, edgecolor='0.8')"
   ]
  },
  {
   "cell_type": "code",
   "execution_count": null,
   "id": "d8286f16",
   "metadata": {},
   "outputs": [],
   "source": [
    "KecamatanAll.crs"
   ]
  },
  {
   "cell_type": "code",
   "execution_count": null,
   "id": "3e6185c6",
   "metadata": {},
   "outputs": [],
   "source": [
    "kecamatan_select_gdf = KecamatanAll[['KECAMATAN','LUAS_KM2','KEP_PEND','geometry']]\n",
    "kecamatan_select_gdf"
   ]
  },
  {
   "cell_type": "code",
   "execution_count": null,
   "id": "fb9292c7",
   "metadata": {},
   "outputs": [],
   "source": [
    "kecamatan_select_gdf.shape"
   ]
  },
  {
   "cell_type": "code",
   "execution_count": null,
   "id": "753eaae7",
   "metadata": {},
   "outputs": [],
   "source": [
    "kecamatan_select_gdf.columns"
   ]
  },
  {
   "cell_type": "code",
   "execution_count": null,
   "id": "78415c86",
   "metadata": {},
   "outputs": [],
   "source": [
    "Kolombaru = {'KECAMATAN' : 'Nama Kecamatan', 'LUAS_KM2':'Luas Km2' , 'KEP_PEND' : 'Kepadatan Penduduk'} "
   ]
  },
  {
   "cell_type": "code",
   "execution_count": null,
   "id": "7e30aa2b",
   "metadata": {},
   "outputs": [],
   "source": [
    "kecamatan_select_gdf.rename(columns=Kolombaru, inplace=True)\n",
    "kecamatan_select_gdf"
   ]
  },
  {
   "cell_type": "code",
   "execution_count": null,
   "id": "57d9e69c",
   "metadata": {},
   "outputs": [],
   "source": [
    "kecamatan_index_gdf=  kecamatan_select_gdf.set_index(\"Nama Kecamatan\")\n",
    "kecamatan_index_gdf"
   ]
  },
  {
   "cell_type": "code",
   "execution_count": null,
   "id": "ea904f8d",
   "metadata": {},
   "outputs": [],
   "source": [
    "kecamatan_index_gdf['Luas Mil'] = kecamatan_index_gdf['Luas Km2'] * 0.621371\n",
    "kecamatan_index_gdf"
   ]
  },
  {
   "cell_type": "code",
   "execution_count": null,
   "id": "20dca291",
   "metadata": {},
   "outputs": [],
   "source": [
    "data_kecamatan_cikupa = kecamatan_select_gdf.loc[kecamatan_select_gdf['Nama Kecamatan'] == 'CIKUPA']\n",
    "data_kecamatan_cikupa"
   ]
  },
  {
   "cell_type": "code",
   "execution_count": null,
   "id": "65e33f2a",
   "metadata": {},
   "outputs": [],
   "source": [
    "data_kecamatan_cikupa.plot(figsize=(15,30))"
   ]
  },
  {
   "cell_type": "code",
   "execution_count": null,
   "id": "44e15976",
   "metadata": {},
   "outputs": [],
   "source": [
    "%matplotlib inline\n",
    "import pandas as pd\n",
    "import numpy as np\n",
    "import matplotlib.pyplot as plt\n",
    "import geopandas as gpd\n",
    "\n",
    "# set a variable that will call whatever column we want to visualise on the map\n",
    "variable = 'Kepadatan Penduduk'\n",
    "\n",
    "# set the range for the choropleth\n",
    "vmin, vmax = 1000, 13000\n",
    "\n",
    "# create figure and axes for Matplotlib\n",
    "fig, ax = plt.subplots(1, figsize=(15,15))\n",
    "\n",
    "# create map\n",
    "kecamatan_index_gdf.plot(column=variable, cmap='OrRd', linewidth=0.8, ax=ax, edgecolor='0.8')\n",
    "\n",
    "# Now we can customise and add annotations\n",
    "\n",
    "# remove the axis\n",
    "ax.axis('off')\n",
    "\n",
    "# add a title\n",
    "ax.set_title('Kepadatan Penduduk Kabupaten Tangerang', \\\n",
    "              fontdict={'fontsize': '25',\n",
    "                        'fontweight' : '3',\n",
    "                        'color' : '#FFFFFF'})\n",
    "\n",
    "# create an annotation for the  data source\n",
    "ax.annotate('Source: BPS 2015',\n",
    "           xy=(0.1, .08), \n",
    "           xycoords='figure fraction',\n",
    "           horizontalalignment='left', \n",
    "           verticalalignment='top',\n",
    "           fontsize=10, color='#FFFFFF')\n",
    "\n",
    "# Create colorbar as a legend\n",
    "sm = plt.cm.ScalarMappable(\n",
    "cmap='OrRd', \n",
    "norm=plt.Normalize(vmin=vmin, vmax=vmax))\n",
    "sm._A = []\n",
    "cbar = fig.colorbar(sm)\n",
    "\n",
    "# this will save the figure as a high-res png. you can also save as svg\n",
    "fig.savefig('testmap.png', dpi=300)"
   ]
  }
 ],
 "metadata": {
  "kernelspec": {
   "display_name": "Python 3 (ipykernel)",
   "language": "python",
   "name": "python3"
  },
  "language_info": {
   "codemirror_mode": {
    "name": "ipython",
    "version": 3
   },
   "file_extension": ".py",
   "mimetype": "text/x-python",
   "name": "python",
   "nbconvert_exporter": "python",
   "pygments_lexer": "ipython3",
   "version": "3.9.12"
  }
 },
 "nbformat": 4,
 "nbformat_minor": 5
}
